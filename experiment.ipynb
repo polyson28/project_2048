{
 "cells": [
  {
   "cell_type": "code",
   "execution_count": 1,
   "metadata": {},
   "outputs": [],
   "source": [
    "import gymnasium as gym\n",
    "import numpy as np\n",
    "import matplotlib.pyplot as plt\n",
    "from IPython.display import clear_output\n",
    "import time\n",
    "import random"
   ]
  },
  {
   "cell_type": "code",
   "execution_count": 2,
   "metadata": {},
   "outputs": [
    {
     "name": "stdout",
     "output_type": "stream",
     "text": [
      "Пространство действий: Discrete(4)\n",
      "Пространство наблюдений: Box(0, 1, (4, 4, 16), uint8)\n"
     ]
    }
   ],
   "source": [
    "# Создаем среду 2048\n",
    "env = gym.make(\"gymnasium_2048:gymnasium_2048/TwentyFortyEight-v0\")\n",
    "\n",
    "# Выводим информацию о среде\n",
    "print(f\"Пространство действий: {env.action_space}\")\n",
    "print(f\"Пространство наблюдений: {env.observation_space}\")"
   ]
  },
  {
   "cell_type": "code",
   "execution_count": 3,
   "metadata": {},
   "outputs": [],
   "source": [
    "directions = {\n",
    "    0: 'UP', \n",
    "    1: 'RIGHT', \n",
    "    2: 'DOWN', \n",
    "    3: 'LEFT', \n",
    "    'None': 'None'\n",
    "}"
   ]
  },
  {
   "cell_type": "code",
   "execution_count": 4,
   "metadata": {},
   "outputs": [],
   "source": [
    "def get_tile_value(observation):\n",
    "    \"\"\"Преобразование наблюдения в сетку 4x4 со значениями плиток.\"\"\"\n",
    "    grid = np.zeros((4, 4), dtype=np.int32)\n",
    "    \n",
    "    for i in range(1, 16):  # Пропускаем канал 0 (пустые ячейки)\n",
    "        positions = np.where(observation[:, :, i] == 1)\n",
    "        for x, y in zip(positions[0], positions[1]):\n",
    "            grid[x, y] = 2 ** i\n",
    "    \n",
    "    return grid\n",
    "\n",
    "def display_game(observation, step, reward, action, terminated=False, truncated=False, info=None):\n",
    "    \"\"\"Отображение текущего состояния игры.\"\"\"\n",
    "    clear_output(wait=True)\n",
    "    \n",
    "    grid = get_tile_value(observation)\n",
    "    \n",
    "    # Отображение сетки\n",
    "    fig, ax = plt.subplots(figsize=(5, 5))\n",
    "    \n",
    "    # Определение цветов для различных значений плиток (как в оригинальной игре 2048)\n",
    "    cmap = {\n",
    "        0: '#CCC0B3',\n",
    "        2: '#EEE4DA',\n",
    "        4: '#EDE0C8',\n",
    "        8: '#F2B179',\n",
    "        16: '#F59563',\n",
    "        32: '#F67C5F',\n",
    "        64: '#F65E3B',\n",
    "        128: '#EDCF72',\n",
    "        256: '#EDCC61',\n",
    "        512: '#EDC850',\n",
    "        1024: '#EDC53F',\n",
    "        2048: '#EDC22E',\n",
    "    }\n",
    "    \n",
    "    # Установка цвета по умолчанию для значений, не указанных в cmap\n",
    "    for value in np.unique(grid):\n",
    "        if value > 2048:\n",
    "            cmap[value] = '#3C3A32'\n",
    "    \n",
    "    # Создание таблицы для визуализации\n",
    "    cell_text = [[str(int(grid[i, j])) if grid[i, j] > 0 else '' for j in range(4)] for i in range(4)]\n",
    "    cell_colors = [[cmap.get(int(grid[i, j]), '#3C3A32') for j in range(4)] for i in range(4)]\n",
    "    \n",
    "    table = ax.table(\n",
    "        cellText=cell_text,\n",
    "        cellColours=cell_colors,\n",
    "        cellLoc='center',\n",
    "        loc='center',\n",
    "        bbox=[0, 0, 1, 1]\n",
    "    )\n",
    "    \n",
    "    # Настройка свойств таблицы\n",
    "    table.auto_set_font_size(False)\n",
    "    table.set_fontsize(14)\n",
    "    for key, cell in table.get_celld().items():\n",
    "        cell.set_height(0.25)\n",
    "        cell.set_width(0.25)\n",
    "    \n",
    "    ax.axis('off')\n",
    "    \n",
    "    direction = directions.get(action, 'None')\n",
    "    \n",
    "    # Добавление информации о шаге и вознаграждении\n",
    "    plt.title(f'Шаг: {step}, Очки: {reward}, Действие: {direction}\\n{\"Игра окончена\" if terminated or truncated else \"\"}')\n",
    "    plt.tight_layout()\n",
    "    plt.show()"
   ]
  },
  {
   "cell_type": "code",
   "execution_count": 5,
   "metadata": {},
   "outputs": [],
   "source": [
    "def run_random_agent(n_steps=100, delay=0.5):\n",
    "    \"\"\"Запуск 2048 со случайным агентом.\"\"\"\n",
    "    env = gym.make(\"gymnasium_2048:gymnasium_2048/TwentyFortyEight-v0\")\n",
    "    observation, info = env.reset()\n",
    "    \n",
    "    total_reward = 0\n",
    "    terminated = False\n",
    "    truncated = False\n",
    "    step = 0\n",
    "    action = None\n",
    "    \n",
    "    while not (terminated or truncated) and step < n_steps:\n",
    "        display_game(observation, step, total_reward, action, terminated, truncated, info)\n",
    "        time.sleep(delay)\n",
    "        \n",
    "        action = env.action_space.sample()  # Случайное действие\n",
    "        print(action)\n",
    "        observation, reward, terminated, truncated, info = env.step(action)\n",
    "        total_reward += reward\n",
    "        step += 1\n",
    "    \n",
    "    # Отображение финального состояния\n",
    "    display_game(observation, step, total_reward, action, terminated, truncated, info)\n",
    "    \n",
    "    # Вывод финальной статистики\n",
    "    grid = get_tile_value(observation)\n",
    "    max_tile = np.max(grid)\n",
    "    \n",
    "    print(f\"Игра окончена через {step} шагов.\")\n",
    "    print(f\"Общий счет: {total_reward}\")\n",
    "    print(f\"Максимальная плитка: {max_tile}\")\n",
    "    \n",
    "    env.close()\n",
    "    \n",
    "    return total_reward, max_tile, step"
   ]
  },
  {
   "cell_type": "code",
   "execution_count": 7,
   "metadata": {},
   "outputs": [
    {
     "data": {
      "image/png": "[encoded data removed]",
      "text/plain": [
       "<Figure size 500x500 with 1 Axes>"
      ]
     },
     "metadata": {},
     "output_type": "display_data"
    },
    {
     "name": "stdout",
     "output_type": "stream",
     "text": [
      "Игра окончена через 10 шагов.\n",
      "Общий счет: 28\n",
      "Максимальная плитка: 8\n"
     ]
    },
    {
     "data": {
      "text/plain": [
       "(np.uint8(28), np.int32(8), 10)"
      ]
     },
     "execution_count": 7,
     "metadata": {},
     "output_type": "execute_result"
    }
   ],
   "source": [
    "run_random_agent(n_steps=10, delay=5)"
   ]
  },
  {
   "cell_type": "code",
   "execution_count": 8,
   "metadata": {},
   "outputs": [],
   "source": [
    "%matplotlib inline\n",
    "from simulations import run_simulation, display_game\n",
    "\n",
    "%load_ext autoreload\n",
    "%autoreload 2"
   ]
  },
  {
   "cell_type": "code",
   "execution_count": 9,
   "metadata": {},
   "outputs": [
    {
     "data": {
      "image/png": "[encoded data removed]",
      "text/plain": [
       "<Figure size 1200x600 with 2 Axes>"
      ]
     },
     "metadata": {},
     "output_type": "display_data"
    },
    {
     "name": "stdout",
     "output_type": "stream",
     "text": [
      "Достигнут лимит шагов\n",
      "Итоговый счет: 24\n"
     ]
    },
    {
     "data": {
      "text/plain": [
       "np.uint8(24)"
      ]
     },
     "execution_count": 9,
     "metadata": {},
     "output_type": "execute_result"
    }
   ],
   "source": [
    "# Запуск симуляции со случайным агентом\n",
    "run_simulation(\n",
    "    agent_type='random',\n",
    "    delay=2,\n",
    "    max_steps=10\n",
    ")"
   ]
  },
  {
   "cell_type": "code",
   "execution_count": null,
   "metadata": {},
   "outputs": [],
   "source": []
  }
 ],
 "metadata": {
  "kernelspec": {
   "display_name": "project_2048",
   "language": "python",
   "name": "python3"
  },
  "language_info": {
   "codemirror_mode": {
    "name": "ipython",
    "version": 3
   },
   "file_extension": ".py",
   "mimetype": "text/x-python",
   "name": "python",
   "nbconvert_exporter": "python",
   "pygments_lexer": "ipython3",
   "version": "3.10.6"
  }
 },
 "nbformat": 4,
 "nbformat_minor": 2
}
